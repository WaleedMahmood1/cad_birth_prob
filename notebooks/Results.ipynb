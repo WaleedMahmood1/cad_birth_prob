{
 "cells": [
  {
   "cell_type": "markdown",
   "id": "a95670f9-bd2e-4cd4-b4cb-efab6b147ef7",
   "metadata": {},
   "source": [
    "# Delta School District \n",
    "## Data And Systems Analyst - Technical Assessment"
   ]
  },
  {
   "cell_type": "markdown",
   "id": "97797238-b005-4731-9c9f-de0c137d3ced",
   "metadata": {},
   "source": [
    "### Fetch and Store the data"
   ]
  },
  {
   "cell_type": "code",
   "execution_count": 1,
   "id": "e969125d-fe84-4e3c-88c1-8e4e9bb4541f",
   "metadata": {},
   "outputs": [],
   "source": [
    "import sys\n",
    "import os\n",
    "import sqlite3\n",
    "import pandas as pd\n",
    "\n",
    "sys.path.append(os.path.abspath('..'))\n",
    "\n",
    "from scripts.api_calls import fetch_and_store_data, load_merged_data\n",
    "from scripts.birthrate_calc import load_data_for_year, calculate_birth_probability"
   ]
  },
  {
   "cell_type": "code",
   "execution_count": 2,
   "id": "7524d617-5a09-4e96-a024-80d4fa34f152",
   "metadata": {},
   "outputs": [
    {
     "name": "stdout",
     "output_type": "stream",
     "text": [
      "[Success] Data successfully stored in ../data/world_birth_data.db\n"
     ]
    }
   ],
   "source": [
    "# Fetch data and store into ../data/world_birth_data.db\n",
    "fetch_and_store_data(db_path = \"../data/world_birth_data.db\")"
   ]
  },
  {
   "cell_type": "code",
   "execution_count": 3,
   "id": "ef09a719-3192-4665-9ddb-d64c254fbbaf",
   "metadata": {},
   "outputs": [
    {
     "data": {
      "text/html": [
       "<div>\n",
       "<style scoped>\n",
       "    .dataframe tbody tr th:only-of-type {\n",
       "        vertical-align: middle;\n",
       "    }\n",
       "\n",
       "    .dataframe tbody tr th {\n",
       "        vertical-align: top;\n",
       "    }\n",
       "\n",
       "    .dataframe thead th {\n",
       "        text-align: right;\n",
       "    }\n",
       "</style>\n",
       "<table border=\"1\" class=\"dataframe\">\n",
       "  <thead>\n",
       "    <tr style=\"text-align: right;\">\n",
       "      <th></th>\n",
       "      <th>Country</th>\n",
       "      <th>ISO3</th>\n",
       "      <th>Year</th>\n",
       "      <th>Birth_Rate_per_1000</th>\n",
       "      <th>Population</th>\n",
       "    </tr>\n",
       "  </thead>\n",
       "  <tbody>\n",
       "    <tr>\n",
       "      <th>0</th>\n",
       "      <td>Africa Eastern and Southern</td>\n",
       "      <td>AFE</td>\n",
       "      <td>2023</td>\n",
       "      <td>32.954912</td>\n",
       "      <td>750503764</td>\n",
       "    </tr>\n",
       "    <tr>\n",
       "      <th>1</th>\n",
       "      <td>Africa Eastern and Southern</td>\n",
       "      <td>AFE</td>\n",
       "      <td>2022</td>\n",
       "      <td>33.320433</td>\n",
       "      <td>731821393</td>\n",
       "    </tr>\n",
       "    <tr>\n",
       "      <th>2</th>\n",
       "      <td>Africa Eastern and Southern</td>\n",
       "      <td>AFE</td>\n",
       "      <td>2021</td>\n",
       "      <td>33.681336</td>\n",
       "      <td>713090928</td>\n",
       "    </tr>\n",
       "    <tr>\n",
       "      <th>3</th>\n",
       "      <td>Africa Eastern and Southern</td>\n",
       "      <td>AFE</td>\n",
       "      <td>2020</td>\n",
       "      <td>34.010470</td>\n",
       "      <td>694446100</td>\n",
       "    </tr>\n",
       "    <tr>\n",
       "      <th>4</th>\n",
       "      <td>Africa Eastern and Southern</td>\n",
       "      <td>AFE</td>\n",
       "      <td>2019</td>\n",
       "      <td>34.335881</td>\n",
       "      <td>675950189</td>\n",
       "    </tr>\n",
       "  </tbody>\n",
       "</table>\n",
       "</div>"
      ],
      "text/plain": [
       "                       Country ISO3  Year  Birth_Rate_per_1000  Population\n",
       "0  Africa Eastern and Southern  AFE  2023            32.954912   750503764\n",
       "1  Africa Eastern and Southern  AFE  2022            33.320433   731821393\n",
       "2  Africa Eastern and Southern  AFE  2021            33.681336   713090928\n",
       "3  Africa Eastern and Southern  AFE  2020            34.010470   694446100\n",
       "4  Africa Eastern and Southern  AFE  2019            34.335881   675950189"
      ]
     },
     "execution_count": 3,
     "metadata": {},
     "output_type": "execute_result"
    }
   ],
   "source": [
    "df = load_merged_data(db_path = \"../data/world_birth_data.db\")\n",
    "df.head()"
   ]
  },
  {
   "cell_type": "markdown",
   "id": "250edd7f-8577-4c93-bed7-7bee7eebfd43",
   "metadata": {},
   "source": [
    "#### Common Years check\n",
    "- Below is just a check to see what years are available for all countries, so that we can work with a common range as we are doing aggregations and it would be inaccurate if there are country statistics missing for some years."
   ]
  },
  {
   "cell_type": "code",
   "execution_count": 4,
   "id": "5967cb54-8f60-4e1e-bf0c-2e25703b46ba",
   "metadata": {},
   "outputs": [
    {
     "name": "stdout",
     "output_type": "stream",
     "text": [
      "Common year range is 1990:2023\n"
     ]
    }
   ],
   "source": [
    "temp = df.groupby('Country')['Year'].agg(['min', 'max'])\n",
    "# print(temp.head())\n",
    "\n",
    "common_start = temp['min'].max()\n",
    "common_end = temp['max'].min()\n",
    "\n",
    "print(f\"Common year range is {common_start}:{common_end}\")"
   ]
  },
  {
   "cell_type": "code",
   "execution_count": 5,
   "id": "1a3731b7-3ffb-4d01-86b0-662651a2c91d",
   "metadata": {},
   "outputs": [
    {
     "data": {
      "text/html": [
       "<div>\n",
       "<style scoped>\n",
       "    .dataframe tbody tr th:only-of-type {\n",
       "        vertical-align: middle;\n",
       "    }\n",
       "\n",
       "    .dataframe tbody tr th {\n",
       "        vertical-align: top;\n",
       "    }\n",
       "\n",
       "    .dataframe thead th {\n",
       "        text-align: right;\n",
       "    }\n",
       "</style>\n",
       "<table border=\"1\" class=\"dataframe\">\n",
       "  <thead>\n",
       "    <tr style=\"text-align: right;\">\n",
       "      <th></th>\n",
       "      <th>Country</th>\n",
       "      <th>Birth_Rate_per_1000</th>\n",
       "      <th>Population</th>\n",
       "    </tr>\n",
       "  </thead>\n",
       "  <tbody>\n",
       "    <tr>\n",
       "      <th>0</th>\n",
       "      <td>Africa Eastern and Southern</td>\n",
       "      <td>34.010470</td>\n",
       "      <td>694446100</td>\n",
       "    </tr>\n",
       "    <tr>\n",
       "      <th>1</th>\n",
       "      <td>Africa Western and Central</td>\n",
       "      <td>34.417675</td>\n",
       "      <td>474569351</td>\n",
       "    </tr>\n",
       "    <tr>\n",
       "      <th>2</th>\n",
       "      <td>Arab World</td>\n",
       "      <td>24.407879</td>\n",
       "      <td>453723239</td>\n",
       "    </tr>\n",
       "    <tr>\n",
       "      <th>3</th>\n",
       "      <td>Caribbean small states</td>\n",
       "      <td>14.802311</td>\n",
       "      <td>4459302</td>\n",
       "    </tr>\n",
       "    <tr>\n",
       "      <th>4</th>\n",
       "      <td>Central Europe and the Baltics</td>\n",
       "      <td>9.705526</td>\n",
       "      <td>101215763</td>\n",
       "    </tr>\n",
       "  </tbody>\n",
       "</table>\n",
       "</div>"
      ],
      "text/plain": [
       "                          Country  Birth_Rate_per_1000  Population\n",
       "0     Africa Eastern and Southern            34.010470   694446100\n",
       "1      Africa Western and Central            34.417675   474569351\n",
       "2                      Arab World            24.407879   453723239\n",
       "3          Caribbean small states            14.802311     4459302\n",
       "4  Central Europe and the Baltics             9.705526   101215763"
      ]
     },
     "execution_count": 5,
     "metadata": {},
     "output_type": "execute_result"
    }
   ],
   "source": [
    "df_2020 = load_data_for_year(2020, db_path='../data/world_birth_data.db')\n",
    "df_2020.head()"
   ]
  },
  {
   "cell_type": "code",
   "execution_count": 6,
   "id": "8c4a6599-fc43-456d-be82-6d629edec363",
   "metadata": {},
   "outputs": [],
   "source": [
    "probability, total_global_births, canada_births = calculate_birth_probability(df_2020, 'Canada')\n",
    "# print(canada_births)\n",
    "# print(total_global_births)\n",
    "# print(df_2020[df_2020['Country'] == \"Canada\"])"
   ]
  },
  {
   "cell_type": "code",
   "execution_count": 7,
   "id": "f0464d38-d6ad-4c83-b5d0-bbb2cca5e191",
   "metadata": {},
   "outputs": [
    {
     "name": "stdout",
     "output_type": "stream",
     "text": [
      "Probability of being born in Canada in 2020: 0.075738%\n"
     ]
    }
   ],
   "source": [
    "print(f\"Probability of being born in Canada in 2020: {probability:.6f}%\")"
   ]
  },
  {
   "cell_type": "markdown",
   "id": "0240c817-fd7d-4b84-b657-f80bd96b304f",
   "metadata": {},
   "source": [
    "**Interpretation**: The probability that a person born in 2020 was born in Canada is approximately $0.0757\\%$. In other words, for every $10,000$ babies born worldwide in $2020$, roughly $7.57$ we born in Canada."
   ]
  },
  {
   "cell_type": "code",
   "execution_count": 8,
   "id": "90774d98-305c-4d92-b48e-e2d24efbd1ea",
   "metadata": {},
   "outputs": [
    {
     "data": {
      "text/html": [
       "<div>\n",
       "<style scoped>\n",
       "    .dataframe tbody tr th:only-of-type {\n",
       "        vertical-align: middle;\n",
       "    }\n",
       "\n",
       "    .dataframe tbody tr th {\n",
       "        vertical-align: top;\n",
       "    }\n",
       "\n",
       "    .dataframe thead th {\n",
       "        text-align: right;\n",
       "    }\n",
       "</style>\n",
       "<table border=\"1\" class=\"dataframe\">\n",
       "  <thead>\n",
       "    <tr style=\"text-align: right;\">\n",
       "      <th></th>\n",
       "      <th>Year</th>\n",
       "      <th>Probability (%)</th>\n",
       "      <th>Country_Births</th>\n",
       "      <th>Global_Births</th>\n",
       "    </tr>\n",
       "  </thead>\n",
       "  <tbody>\n",
       "    <tr>\n",
       "      <th>0</th>\n",
       "      <td>2000</td>\n",
       "      <td>0.063355</td>\n",
       "      <td>328337</td>\n",
       "      <td>518247955</td>\n",
       "    </tr>\n",
       "    <tr>\n",
       "      <th>1</th>\n",
       "      <td>2001</td>\n",
       "      <td>0.084161</td>\n",
       "      <td>335025</td>\n",
       "      <td>398077996</td>\n",
       "    </tr>\n",
       "    <tr>\n",
       "      <th>2</th>\n",
       "      <td>2002</td>\n",
       "      <td>0.080772</td>\n",
       "      <td>329271</td>\n",
       "      <td>407654815</td>\n",
       "    </tr>\n",
       "    <tr>\n",
       "      <th>3</th>\n",
       "      <td>2003</td>\n",
       "      <td>0.080076</td>\n",
       "      <td>335410</td>\n",
       "      <td>418862942</td>\n",
       "    </tr>\n",
       "    <tr>\n",
       "      <th>4</th>\n",
       "      <td>2004</td>\n",
       "      <td>0.078631</td>\n",
       "      <td>338551</td>\n",
       "      <td>430556936</td>\n",
       "    </tr>\n",
       "  </tbody>\n",
       "</table>\n",
       "</div>"
      ],
      "text/plain": [
       "   Year  Probability (%)  Country_Births  Global_Births\n",
       "0  2000         0.063355          328337      518247955\n",
       "1  2001         0.084161          335025      398077996\n",
       "2  2002         0.080772          329271      407654815\n",
       "3  2003         0.080076          335410      418862942\n",
       "4  2004         0.078631          338551      430556936"
      ]
     },
     "execution_count": 8,
     "metadata": {},
     "output_type": "execute_result"
    }
   ],
   "source": [
    "# start_year = 2000\n",
    "# end_year = 2020\n",
    "# country = 'Canada'\n",
    "# db_path = '../data/world_birth_data.db'\n",
    "\n",
    "# Store results in a list\n",
    "results = []\n",
    "\n",
    "for year in range(2000, 2020+1):\n",
    "    df_year = load_data_for_year(year, db_path = '../data/world_birth_data.db')\n",
    "    if df_year.empty:\n",
    "        print(f\"No data for {year}, skipping...\")\n",
    "        continue\n",
    "\n",
    "    probability, global_births, country_births = calculate_birth_probability(df_year, 'Canada')\n",
    "\n",
    "    results.append({\n",
    "        'Year': year,\n",
    "        'Probability (%)': probability,\n",
    "        'Country_Births': int(country_births),\n",
    "        'Global_Births': int(global_births)\n",
    "    })\n",
    "\n",
    "# Convert results to DataFrame\n",
    "prob_df = pd.DataFrame(results)\n",
    "prob_df.head()"
   ]
  },
  {
   "cell_type": "code",
   "execution_count": null,
   "id": "ec806f66-6baf-4878-985a-cbc6bfd52d6e",
   "metadata": {},
   "outputs": [],
   "source": []
  },
  {
   "cell_type": "code",
   "execution_count": null,
   "id": "fda66ee9-d31e-472f-bd66-9dd004f9c8f4",
   "metadata": {},
   "outputs": [],
   "source": []
  },
  {
   "cell_type": "code",
   "execution_count": null,
   "id": "447adf66-0f54-4e38-a00f-38d88ec21f80",
   "metadata": {},
   "outputs": [],
   "source": []
  },
  {
   "cell_type": "code",
   "execution_count": null,
   "id": "de65053c-213f-4577-871b-0934560f59db",
   "metadata": {},
   "outputs": [],
   "source": []
  },
  {
   "cell_type": "code",
   "execution_count": null,
   "id": "e5b18d8c-0bd5-4d3b-9086-15ea83e01147",
   "metadata": {},
   "outputs": [],
   "source": []
  },
  {
   "cell_type": "code",
   "execution_count": null,
   "id": "6412782f-ab1a-49b6-9cf3-d10a651b3312",
   "metadata": {},
   "outputs": [],
   "source": []
  },
  {
   "cell_type": "code",
   "execution_count": null,
   "id": "5ab735c8-9125-4738-a6fb-61b3dce9d789",
   "metadata": {},
   "outputs": [],
   "source": []
  },
  {
   "cell_type": "code",
   "execution_count": null,
   "id": "d4dd84ec-4e55-483b-aab7-352b62798dac",
   "metadata": {},
   "outputs": [],
   "source": []
  }
 ],
 "metadata": {
  "kernelspec": {
   "display_name": "Python 3 (ipykernel)",
   "language": "python",
   "name": "python3"
  },
  "language_info": {
   "codemirror_mode": {
    "name": "ipython",
    "version": 3
   },
   "file_extension": ".py",
   "mimetype": "text/x-python",
   "name": "python",
   "nbconvert_exporter": "python",
   "pygments_lexer": "ipython3",
   "version": "3.11.4"
  }
 },
 "nbformat": 4,
 "nbformat_minor": 5
}
